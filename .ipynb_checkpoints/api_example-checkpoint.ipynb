{
 "cells": [
  {
   "cell_type": "code",
   "execution_count": 3,
   "metadata": {
    "collapsed": false
   },
   "outputs": [],
   "source": [
    "from get_ether_delta_orders import get_ether_delta_order_for"
   ]
  },
  {
   "cell_type": "code",
   "execution_count": 6,
   "metadata": {
    "collapsed": false
   },
   "outputs": [],
   "source": [
    "buys_results,sells_results = get_ether_delta_order_for(\"0xdd974d5c2e2928dea5f71b9825b8b646686bd200\",\"0\")"
   ]
  },
  {
   "cell_type": "code",
   "execution_count": 7,
   "metadata": {
    "collapsed": false
   },
   "outputs": [
    {
     "name": "stdout",
     "output_type": "stream",
     "text": [
      "{'id': '14dafbd69f68a07cb3183c5b79736ed16b2225930d8f3e616ea21ecd4d05e50a_buy', 'amount': '307700000000000000000', 'price': '0.065', 'tokenGet': '0xdd974d5c2e2928dea5f71b9825b8b646686bd200', 'amountGet': '307700000000000000000', 'tokenGive': '0x0000000000000000000000000000000000000000', 'amountGive': '20000500000000000000', 'expires': '4386243', 'nonce': '2643633994', 'v': 27, 'r': '0x5b5e976c9ce128825b9328ea24adbdf30c72228310e350a9d4fd1000a319e0aa', 's': '0x25860650797af1a8010afef8d093f2f1a59e941dcfb228a2d35c6e77649eec10', 'user': '0xed7962de98036418af0a8d1bc986cda319822bd9', 'updated': '2017-09-18T04:13:41.192Z', 'availableVolume': '307700000000000000000', 'ethAvailableVolume': '307.7', 'availableVolumeBase': '20000500000000000000', 'ethAvailableVolumeBase': '20.0005', 'amountFilled': None}\n",
      "[]\n"
     ]
    }
   ],
   "source": [
    "print(buys_results[1])\n",
    "print(sells_results)"
   ]
  },
  {
   "cell_type": "code",
   "execution_count": null,
   "metadata": {
    "collapsed": true
   },
   "outputs": [],
   "source": []
  }
 ],
 "metadata": {
  "kernelspec": {
   "display_name": "Python 3",
   "language": "python",
   "name": "python3"
  },
  "language_info": {
   "codemirror_mode": {
    "name": "ipython",
    "version": 3
   },
   "file_extension": ".py",
   "mimetype": "text/x-python",
   "name": "python",
   "nbconvert_exporter": "python",
   "pygments_lexer": "ipython3",
   "version": "3.6.1"
  }
 },
 "nbformat": 4,
 "nbformat_minor": 2
}
